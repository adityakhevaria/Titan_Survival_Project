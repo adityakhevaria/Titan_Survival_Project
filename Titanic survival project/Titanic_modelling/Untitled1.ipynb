{
  "nbformat": 4,
  "nbformat_minor": 0,
  "metadata": {
    "colab": {
      "name": "Untitled1.ipynb",
      "provenance": []
    },
    "kernelspec": {
      "name": "python3",
      "display_name": "Python 3"
    },
    "language_info": {
      "name": "python"
    }
  },
  "cells": [
    {
      "cell_type": "code",
      "execution_count": 106,
      "metadata": {
        "colab": {
          "base_uri": "https://localhost:8080/",
          "height": 35
        },
        "id": "_CXMBQDFMxlk",
        "outputId": "0297f9cf-aae0-439f-e8d3-b28365400e7c"
      },
      "outputs": [
        {
          "output_type": "execute_result",
          "data": {
            "text/plain": [
              "'\\n## Titanic Prediction Modeling\\n'"
            ],
            "application/vnd.google.colaboratory.intrinsic+json": {
              "type": "string"
            }
          },
          "metadata": {},
          "execution_count": 106
        }
      ],
      "source": [
        "\"\"\"\n",
        "## Titanic Prediction Modeling\n",
        "\"\"\""
      ]
    },
    {
      "cell_type": "code",
      "source": [
        "import pandas as pd\n",
        "import matplotlib.pyplot as plt\n",
        "import numpy as np"
      ],
      "metadata": {
        "id": "-iqVrBRyN0kb"
      },
      "execution_count": 107,
      "outputs": []
    },
    {
      "cell_type": "code",
      "source": [
        "df=pd.read_csv('/train.csv')"
      ],
      "metadata": {
        "id": "37Fqt5q5N4DR"
      },
      "execution_count": 108,
      "outputs": []
    },
    {
      "cell_type": "code",
      "source": [
        "print(df.head())"
      ],
      "metadata": {
        "colab": {
          "base_uri": "https://localhost:8080/"
        },
        "id": "c_40doPaTZbG",
        "outputId": "8f86d18c-dbb4-48ff-fe03-c7a669b63b3e"
      },
      "execution_count": 109,
      "outputs": [
        {
          "output_type": "stream",
          "name": "stdout",
          "text": [
            "   PassengerId  Survived  Pclass  \\\n",
            "0            1         0       3   \n",
            "1            2         1       1   \n",
            "2            3         1       3   \n",
            "3            4         1       1   \n",
            "4            5         0       3   \n",
            "\n",
            "                                                Name     Sex   Age  SibSp  \\\n",
            "0                            Braund, Mr. Owen Harris    male  22.0      1   \n",
            "1  Cumings, Mrs. John Bradley (Florence Briggs Th...  female  38.0      1   \n",
            "2                             Heikkinen, Miss. Laina  female  26.0      0   \n",
            "3       Futrelle, Mrs. Jacques Heath (Lily May Peel)  female  35.0      1   \n",
            "4                           Allen, Mr. William Henry    male  35.0      0   \n",
            "\n",
            "   Parch            Ticket     Fare Cabin Embarked  \n",
            "0      0         A/5 21171   7.2500   NaN        S  \n",
            "1      0          PC 17599  71.2833   C85        C  \n",
            "2      0  STON/O2. 3101282   7.9250   NaN        S  \n",
            "3      0            113803  53.1000  C123        S  \n",
            "4      0            373450   8.0500   NaN        S  \n"
          ]
        }
      ]
    },
    {
      "cell_type": "code",
      "source": [
        "print(df.shape)"
      ],
      "metadata": {
        "colab": {
          "base_uri": "https://localhost:8080/"
        },
        "id": "2RGF58svTc9B",
        "outputId": "80566a6e-3aa9-4f7d-addc-661ea96d372e"
      },
      "execution_count": 110,
      "outputs": [
        {
          "output_type": "stream",
          "name": "stdout",
          "text": [
            "(891, 12)\n"
          ]
        }
      ]
    },
    {
      "cell_type": "code",
      "source": [
        "print(df.isnull().sum())"
      ],
      "metadata": {
        "colab": {
          "base_uri": "https://localhost:8080/"
        },
        "id": "3QhClazJThIb",
        "outputId": "f23b7ab6-9441-4d3c-8e0a-404b765367f4"
      },
      "execution_count": 111,
      "outputs": [
        {
          "output_type": "stream",
          "name": "stdout",
          "text": [
            "PassengerId      0\n",
            "Survived         0\n",
            "Pclass           0\n",
            "Name             0\n",
            "Sex              0\n",
            "Age            177\n",
            "SibSp            0\n",
            "Parch            0\n",
            "Ticket           0\n",
            "Fare             0\n",
            "Cabin          687\n",
            "Embarked         2\n",
            "dtype: int64\n"
          ]
        }
      ]
    },
    {
      "cell_type": "code",
      "source": [
        "print(df[df.Embarked.isnull()])"
      ],
      "metadata": {
        "colab": {
          "base_uri": "https://localhost:8080/"
        },
        "id": "j5WXp9g8UQlk",
        "outputId": "54a4ab93-55c3-4256-b2ca-f7ede5a494b2"
      },
      "execution_count": 112,
      "outputs": [
        {
          "output_type": "stream",
          "name": "stdout",
          "text": [
            "     PassengerId  Survived  Pclass                                       Name  \\\n",
            "61            62         1       1                        Icard, Miss. Amelie   \n",
            "829          830         1       1  Stone, Mrs. George Nelson (Martha Evelyn)   \n",
            "\n",
            "        Sex   Age  SibSp  Parch  Ticket  Fare Cabin Embarked  \n",
            "61   female  38.0      0      0  113572  80.0   B28      NaN  \n",
            "829  female  62.0      0      0  113572  80.0   B28      NaN  \n"
          ]
        }
      ]
    },
    {
      "cell_type": "code",
      "source": [
        "print(df.Survived.value_counts())  #display number of counts for each unique value"
      ],
      "metadata": {
        "colab": {
          "base_uri": "https://localhost:8080/"
        },
        "id": "HzcqgGLeTqNG",
        "outputId": "c7639f69-f40b-4218-aef0-06ef59c943ef"
      },
      "execution_count": 113,
      "outputs": [
        {
          "output_type": "stream",
          "name": "stdout",
          "text": [
            "0    549\n",
            "1    342\n",
            "Name: Survived, dtype: int64\n"
          ]
        }
      ]
    },
    {
      "cell_type": "code",
      "source": [
        "print(df.Fare.agg(['min','max','mean','median']))"
      ],
      "metadata": {
        "colab": {
          "base_uri": "https://localhost:8080/"
        },
        "id": "wjXAltrHT-3P",
        "outputId": "ade3bb6a-0067-4733-c97b-bad1815ff280"
      },
      "execution_count": 114,
      "outputs": [
        {
          "output_type": "stream",
          "name": "stdout",
          "text": [
            "min         0.000000\n",
            "max       512.329200\n",
            "mean       32.204208\n",
            "median     14.454200\n",
            "Name: Fare, dtype: float64\n"
          ]
        }
      ]
    },
    {
      "cell_type": "code",
      "source": [
        "print(df.sort_values('Fare',ascending=False)[:10])"
      ],
      "metadata": {
        "colab": {
          "base_uri": "https://localhost:8080/"
        },
        "id": "5ND8X2z4VJX5",
        "outputId": "e019650b-0866-4970-b250-46d23e3b96ff"
      },
      "execution_count": 115,
      "outputs": [
        {
          "output_type": "stream",
          "name": "stdout",
          "text": [
            "     PassengerId  Survived  Pclass                                   Name  \\\n",
            "258          259         1       1                       Ward, Miss. Anna   \n",
            "737          738         1       1                 Lesurer, Mr. Gustave J   \n",
            "679          680         1       1     Cardeza, Mr. Thomas Drake Martinez   \n",
            "88            89         1       1             Fortune, Miss. Mabel Helen   \n",
            "27            28         0       1         Fortune, Mr. Charles Alexander   \n",
            "341          342         1       1         Fortune, Miss. Alice Elizabeth   \n",
            "438          439         0       1                      Fortune, Mr. Mark   \n",
            "311          312         1       1             Ryerson, Miss. Emily Borie   \n",
            "742          743         1       1  Ryerson, Miss. Susan Parker \"Suzette\"   \n",
            "118          119         0       1               Baxter, Mr. Quigg Edmond   \n",
            "\n",
            "        Sex   Age  SibSp  Parch    Ticket      Fare            Cabin Embarked  \n",
            "258  female  35.0      0      0  PC 17755  512.3292              NaN        C  \n",
            "737    male  35.0      0      0  PC 17755  512.3292             B101        C  \n",
            "679    male  36.0      0      1  PC 17755  512.3292      B51 B53 B55        C  \n",
            "88   female  23.0      3      2     19950  263.0000      C23 C25 C27        S  \n",
            "27     male  19.0      3      2     19950  263.0000      C23 C25 C27        S  \n",
            "341  female  24.0      3      2     19950  263.0000      C23 C25 C27        S  \n",
            "438    male  64.0      1      4     19950  263.0000      C23 C25 C27        S  \n",
            "311  female  18.0      2      2  PC 17608  262.3750  B57 B59 B63 B66        C  \n",
            "742  female  21.0      2      2  PC 17608  262.3750  B57 B59 B63 B66        C  \n",
            "118    male  24.0      0      1  PC 17558  247.5208          B58 B60        C  \n"
          ]
        }
      ]
    },
    {
      "cell_type": "code",
      "source": [
        "a=[5,7,8,6,90]"
      ],
      "metadata": {
        "id": "0Aj_FqyxVW15"
      },
      "execution_count": 116,
      "outputs": []
    },
    {
      "cell_type": "code",
      "source": [
        "print(np.mean(a))"
      ],
      "metadata": {
        "colab": {
          "base_uri": "https://localhost:8080/"
        },
        "id": "gtlh0uz0Vcex",
        "outputId": "cb7bd21d-fa17-42b2-e010-75f728018967"
      },
      "execution_count": 117,
      "outputs": [
        {
          "output_type": "stream",
          "name": "stdout",
          "text": [
            "23.2\n"
          ]
        }
      ]
    },
    {
      "cell_type": "code",
      "source": [
        "print(np.median(a))"
      ],
      "metadata": {
        "colab": {
          "base_uri": "https://localhost:8080/"
        },
        "id": "mDnsa5yxVhUP",
        "outputId": "89f33bb1-9ee5-4781-adb0-93e84610abd5"
      },
      "execution_count": 118,
      "outputs": [
        {
          "output_type": "stream",
          "name": "stdout",
          "text": [
            "7.0\n"
          ]
        }
      ]
    },
    {
      "cell_type": "code",
      "source": [
        "plt.hist(df.Fare,bins=30)"
      ],
      "metadata": {
        "colab": {
          "base_uri": "https://localhost:8080/",
          "height": 439
        },
        "id": "rjjrniebVl66",
        "outputId": "39bfc61e-7aaa-447d-a872-edddaf88622e"
      },
      "execution_count": 119,
      "outputs": [
        {
          "output_type": "execute_result",
          "data": {
            "text/plain": [
              "(array([496., 191.,  45.,  45.,  48.,  13.,  11.,  11.,   9.,   2.,   0.,\n",
              "          0.,   5.,   4.,   2.,   6.,   0.,   0.,   0.,   0.,   0.,   0.,\n",
              "          0.,   0.,   0.,   0.,   0.,   0.,   0.,   3.]),\n",
              " array([  0.     ,  17.07764,  34.15528,  51.23292,  68.31056,  85.3882 ,\n",
              "        102.46584, 119.54348, 136.62112, 153.69876, 170.7764 , 187.85404,\n",
              "        204.93168, 222.00932, 239.08696, 256.1646 , 273.24224, 290.31988,\n",
              "        307.39752, 324.47516, 341.5528 , 358.63044, 375.70808, 392.78572,\n",
              "        409.86336, 426.941  , 444.01864, 461.09628, 478.17392, 495.25156,\n",
              "        512.3292 ]),\n",
              " <a list of 30 Patch objects>)"
            ]
          },
          "metadata": {},
          "execution_count": 119
        },
        {
          "output_type": "display_data",
          "data": {
            "text/plain": [
              "<Figure size 432x288 with 1 Axes>"
            ],
            "image/png": "[encoded data removed]"
          },
          "metadata": {
            "needs_background": "light"
          }
        }
      ]
    },
    {
      "cell_type": "code",
      "source": [
        "plt.xlabel('Fare')"
      ],
      "metadata": {
        "colab": {
          "base_uri": "https://localhost:8080/",
          "height": 300
        },
        "id": "BO8fOVXnVsfI",
        "outputId": "d3e7d2f0-6994-462b-ec92-c1189d40f14a"
      },
      "execution_count": 120,
      "outputs": [
        {
          "output_type": "execute_result",
          "data": {
            "text/plain": [
              "Text(0.5, 0, 'Fare')"
            ]
          },
          "metadata": {},
          "execution_count": 120
        },
        {
          "output_type": "display_data",
          "data": {
            "text/plain": [
              "<Figure size 432x288 with 1 Axes>"
            ],
            "image/png": "[encoded data removed]"
          },
          "metadata": {
            "needs_background": "light"
          }
        }
      ]
    },
    {
      "cell_type": "code",
      "source": [
        "plt.ylabel('no of people')"
      ],
      "metadata": {
        "colab": {
          "base_uri": "https://localhost:8080/",
          "height": 286
        },
        "id": "exao0ZLjV2dO",
        "outputId": "8abe0434-36ab-4637-9288-e421fc8443e6"
      },
      "execution_count": 121,
      "outputs": [
        {
          "output_type": "execute_result",
          "data": {
            "text/plain": [
              "Text(0, 0.5, 'no of people')"
            ]
          },
          "metadata": {},
          "execution_count": 121
        },
        {
          "output_type": "display_data",
          "data": {
            "text/plain": [
              "<Figure size 432x288 with 1 Axes>"
            ],
            "image/png": "[encoded data removed]"
          },
          "metadata": {
            "needs_background": "light"
          }
        }
      ]
    },
    {
      "cell_type": "code",
      "source": [
        "plt.show()"
      ],
      "metadata": {
        "id": "NETT2iLjV8kn"
      },
      "execution_count": 122,
      "outputs": []
    },
    {
      "cell_type": "code",
      "source": [
        "survived=df[df['Survived']==1].Sex.value_counts()"
      ],
      "metadata": {
        "id": "y7j2H7wTV_zd"
      },
      "execution_count": 123,
      "outputs": []
    },
    {
      "cell_type": "code",
      "source": [
        "print(survived)"
      ],
      "metadata": {
        "colab": {
          "base_uri": "https://localhost:8080/"
        },
        "id": "tI4l_ohDWvan",
        "outputId": "bab667d4-b70b-402e-cc80-30e8b20fbdb5"
      },
      "execution_count": 124,
      "outputs": [
        {
          "output_type": "stream",
          "name": "stdout",
          "text": [
            "female    233\n",
            "male      109\n",
            "Name: Sex, dtype: int64\n"
          ]
        }
      ]
    },
    {
      "cell_type": "code",
      "source": [
        "dead=df[df['Survived']==0].Sex.value_counts()\n",
        "print(dead)"
      ],
      "metadata": {
        "colab": {
          "base_uri": "https://localhost:8080/"
        },
        "id": "_cOSRfiqW22p",
        "outputId": "930e8154-c417-46d3-fff9-4f6695f4241c"
      },
      "execution_count": 125,
      "outputs": [
        {
          "output_type": "stream",
          "name": "stdout",
          "text": [
            "male      468\n",
            "female     81\n",
            "Name: Sex, dtype: int64\n"
          ]
        }
      ]
    },
    {
      "cell_type": "code",
      "source": [
        "survived=df[df['Survived']==1].Sex.value_counts()\n",
        "dead=df[df['Survived']==0].Sex.value_counts()"
      ],
      "metadata": {
        "id": "jLzmwN1bXD9V"
      },
      "execution_count": 126,
      "outputs": []
    },
    {
      "cell_type": "code",
      "source": [
        "df_new=pd.DataFrame([survived,dead])\n",
        "df_new.index=['Survived','Dead']\n",
        "df_new.plot(kind='bar',stacked=True)\n",
        "plt.show()"
      ],
      "metadata": {
        "colab": {
          "base_uri": "https://localhost:8080/",
          "height": 299
        },
        "id": "oIYa684SXMwo",
        "outputId": "82b5b555-56ff-4091-cf24-b8f6da21bdce"
      },
      "execution_count": 127,
      "outputs": [
        {
          "output_type": "display_data",
          "data": {
            "text/plain": [
              "<Figure size 432x288 with 1 Axes>"
            ],
            "image/png": "[encoded data removed]"
          },
          "metadata": {
            "needs_background": "light"
          }
        }
      ]
    },
    {
      "cell_type": "code",
      "source": [
        "survived=df[df['Survived']==1].Pclass.value_counts()\n",
        "dead=df[df['Survived']==1].Pclass.value_counts()\n",
        "df_new=pd.DataFrame([survived,dead])\n",
        "df_new.index=['Survived','Dead']\n",
        "df_new.plot(kind='bar',stacked=True)\n",
        "plt.show()"
      ],
      "metadata": {
        "colab": {
          "base_uri": "https://localhost:8080/",
          "height": 299
        },
        "id": "oLz1uHM5Xl7l",
        "outputId": "abbcfa6f-07e2-49fe-987d-3b7ba7070286"
      },
      "execution_count": 128,
      "outputs": [
        {
          "output_type": "display_data",
          "data": {
            "text/plain": [
              "<Figure size 432x288 with 1 Axes>"
            ],
            "image/png": "[encoded data removed]"
          },
          "metadata": {
            "needs_background": "light"
          }
        }
      ]
    },
    {
      "cell_type": "code",
      "source": [
        "print(df.columns)\n",
        "df_1=df.loc[:,['Pclass','Sex','Age','Fare']]\n",
        "print(df_1)\n",
        "\n",
        "\"\"\"\n",
        "### label encoding\n",
        "### one hot encoding\n",
        "\"\"\""
      ],
      "metadata": {
        "colab": {
          "base_uri": "https://localhost:8080/",
          "height": 330
        },
        "id": "R3qvrxDhXmDk",
        "outputId": "f8febe4d-a7dc-4f5a-f49c-ad56df899f5e"
      },
      "execution_count": 129,
      "outputs": [
        {
          "output_type": "stream",
          "name": "stdout",
          "text": [
            "Index(['PassengerId', 'Survived', 'Pclass', 'Name', 'Sex', 'Age', 'SibSp',\n",
            "       'Parch', 'Ticket', 'Fare', 'Cabin', 'Embarked'],\n",
            "      dtype='object')\n",
            "     Pclass     Sex   Age     Fare\n",
            "0         3    male  22.0   7.2500\n",
            "1         1  female  38.0  71.2833\n",
            "2         3  female  26.0   7.9250\n",
            "3         1  female  35.0  53.1000\n",
            "4         3    male  35.0   8.0500\n",
            "..      ...     ...   ...      ...\n",
            "886       2    male  27.0  13.0000\n",
            "887       1  female  19.0  30.0000\n",
            "888       3  female   NaN  23.4500\n",
            "889       1    male  26.0  30.0000\n",
            "890       3    male  32.0   7.7500\n",
            "\n",
            "[891 rows x 4 columns]\n"
          ]
        },
        {
          "output_type": "execute_result",
          "data": {
            "text/plain": [
              "'\\n### label encoding\\n### one hot encoding\\n'"
            ],
            "application/vnd.google.colaboratory.intrinsic+json": {
              "type": "string"
            }
          },
          "metadata": {},
          "execution_count": 129
        }
      ]
    },
    {
      "cell_type": "code",
      "source": [
        "c1=pd.get_dummies(df_1['Sex'])\n",
        "print(c1.head())"
      ],
      "metadata": {
        "colab": {
          "base_uri": "https://localhost:8080/"
        },
        "id": "LVFpbChrYYCp",
        "outputId": "9ee5c9c5-6642-48ce-8b92-c483705819a3"
      },
      "execution_count": 130,
      "outputs": [
        {
          "output_type": "stream",
          "name": "stdout",
          "text": [
            "   female  male\n",
            "0       0     1\n",
            "1       1     0\n",
            "2       1     0\n",
            "3       1     0\n",
            "4       0     1\n"
          ]
        }
      ]
    },
    {
      "cell_type": "code",
      "source": [
        "print(df.dtypes)\n"
      ],
      "metadata": {
        "colab": {
          "base_uri": "https://localhost:8080/"
        },
        "id": "SkynPSTBYYHc",
        "outputId": "44499454-b0c1-4cf4-c111-730090489a05"
      },
      "execution_count": 131,
      "outputs": [
        {
          "output_type": "stream",
          "name": "stdout",
          "text": [
            "PassengerId      int64\n",
            "Survived         int64\n",
            "Pclass           int64\n",
            "Name            object\n",
            "Sex             object\n",
            "Age            float64\n",
            "SibSp            int64\n",
            "Parch            int64\n",
            "Ticket          object\n",
            "Fare           float64\n",
            "Cabin           object\n",
            "Embarked        object\n",
            "dtype: object\n"
          ]
        }
      ]
    },
    {
      "cell_type": "code",
      "source": [
        "c2=df_1.select_dtypes(exclude=['object'])\n",
        "print(c2.head())"
      ],
      "metadata": {
        "colab": {
          "base_uri": "https://localhost:8080/"
        },
        "id": "QPB56ea1ZKgx",
        "outputId": "d4e65b82-9cac-4379-cbdd-5ae3220696aa"
      },
      "execution_count": 132,
      "outputs": [
        {
          "output_type": "stream",
          "name": "stdout",
          "text": [
            "   Pclass   Age     Fare\n",
            "0       3  22.0   7.2500\n",
            "1       1  38.0  71.2833\n",
            "2       3  26.0   7.9250\n",
            "3       1  35.0  53.1000\n",
            "4       3  35.0   8.0500\n"
          ]
        }
      ]
    },
    {
      "cell_type": "code",
      "source": [
        "final_data=pd.concat([c2,c1],axis=1)"
      ],
      "metadata": {
        "id": "0afeXFnGZtrw"
      },
      "execution_count": 133,
      "outputs": []
    },
    {
      "cell_type": "code",
      "source": [
        "print(final_data.head())"
      ],
      "metadata": {
        "colab": {
          "base_uri": "https://localhost:8080/"
        },
        "id": "LiM09IHpZ55h",
        "outputId": "781e88ec-0bf1-4728-d644-4fd41809d2a8"
      },
      "execution_count": 134,
      "outputs": [
        {
          "output_type": "stream",
          "name": "stdout",
          "text": [
            "   Pclass   Age     Fare  female  male\n",
            "0       3  22.0   7.2500       0     1\n",
            "1       1  38.0  71.2833       1     0\n",
            "2       3  26.0   7.9250       1     0\n",
            "3       1  35.0  53.1000       1     0\n",
            "4       3  35.0   8.0500       0     1\n"
          ]
        }
      ]
    },
    {
      "cell_type": "code",
      "source": [
        "print(final_data.isnull().sum())\n",
        "print(final_data.Age.median())\n",
        "\n",
        "final_data.Age=final_data.Age.fillna(final_data.Age.median())"
      ],
      "metadata": {
        "colab": {
          "base_uri": "https://localhost:8080/"
        },
        "id": "fZuXlt-iZ58o",
        "outputId": "8a34f08b-8efc-4331-999d-084cf4e8fc83"
      },
      "execution_count": 135,
      "outputs": [
        {
          "output_type": "stream",
          "name": "stdout",
          "text": [
            "Pclass      0\n",
            "Age       177\n",
            "Fare        0\n",
            "female      0\n",
            "male        0\n",
            "dtype: int64\n",
            "28.0\n"
          ]
        }
      ]
    },
    {
      "cell_type": "code",
      "source": [
        "print(final_data.isnull().sum())"
      ],
      "metadata": {
        "colab": {
          "base_uri": "https://localhost:8080/"
        },
        "id": "2aYlG_9Ga5Su",
        "outputId": "3633c123-d6ff-463a-d886-4d6e89384740"
      },
      "execution_count": 136,
      "outputs": [
        {
          "output_type": "stream",
          "name": "stdout",
          "text": [
            "Pclass    0\n",
            "Age       0\n",
            "Fare      0\n",
            "female    0\n",
            "male      0\n",
            "dtype: int64\n"
          ]
        }
      ]
    },
    {
      "cell_type": "code",
      "source": [
        "x=final_data.values\n",
        "y=df.Survived.values\n",
        "print(x.shape)\n",
        "print(y.shape)\n",
        "print(x.min())"
      ],
      "metadata": {
        "colab": {
          "base_uri": "https://localhost:8080/"
        },
        "id": "Nemha948a5cp",
        "outputId": "e120ea41-35fd-4b08-89a9-409448f37481"
      },
      "execution_count": 137,
      "outputs": [
        {
          "output_type": "stream",
          "name": "stdout",
          "text": [
            "(891, 5)\n",
            "(891,)\n",
            "0.0\n"
          ]
        }
      ]
    },
    {
      "cell_type": "code",
      "source": [
        "from sklearn.preprocessing import StandardScaler,MinMaxScaler\n",
        "from sklearn.model_selection import train_test_split"
      ],
      "metadata": {
        "id": "SYKeHBTzbbNj"
      },
      "execution_count": 138,
      "outputs": []
    },
    {
      "cell_type": "code",
      "source": [
        "xtrain,xtest,ytrain,ytest=train_test_split(x,y,test_size=.25,random_state=12)"
      ],
      "metadata": {
        "id": "5k5Nd32icvMm"
      },
      "execution_count": 139,
      "outputs": []
    },
    {
      "cell_type": "code",
      "source": [
        "std=StandardScaler()"
      ],
      "metadata": {
        "id": "IvT9yDSRcvQZ"
      },
      "execution_count": 142,
      "outputs": []
    },
    {
      "cell_type": "code",
      "source": [
        "Xtrain_std= std.fit_transform(xtrain)\n",
        "Xtest_std=std.transform(xtest)"
      ],
      "metadata": {
        "id": "LzlGJjIrcvTy"
      },
      "execution_count": 143,
      "outputs": []
    },
    {
      "cell_type": "code",
      "source": [
        "from sklearn.linear_model import LogisticRegression"
      ],
      "metadata": {
        "id": "7jh6Zrz6cvXH"
      },
      "execution_count": 144,
      "outputs": []
    },
    {
      "cell_type": "code",
      "source": [
        "log=LogisticRegression()\n",
        "print(log.fit(Xtrain_std,ytrain))"
      ],
      "metadata": {
        "colab": {
          "base_uri": "https://localhost:8080/"
        },
        "id": "L896K4xGgl-m",
        "outputId": "0ff5d26c-0a7f-43f3-f854-611c7350cd33"
      },
      "execution_count": 145,
      "outputs": [
        {
          "output_type": "stream",
          "name": "stdout",
          "text": [
            "LogisticRegression()\n"
          ]
        }
      ]
    },
    {
      "cell_type": "code",
      "source": [
        "pred=log.predict(Xtest_std)"
      ],
      "metadata": {
        "id": "mKwOBK8vgmCV"
      },
      "execution_count": 146,
      "outputs": []
    },
    {
      "cell_type": "code",
      "source": [
        "from sklearn.metrics import accuracy_score\n"
      ],
      "metadata": {
        "id": "Si-algM9g5VD"
      },
      "execution_count": 149,
      "outputs": []
    },
    {
      "cell_type": "code",
      "source": [
        "print(accuracy_score(ytest,pred))"
      ],
      "metadata": {
        "colab": {
          "base_uri": "https://localhost:8080/"
        },
        "id": "RfbdBSh4hfcY",
        "outputId": "51bc1dfb-41e1-45d8-a0bf-786db4faac21"
      },
      "execution_count": 150,
      "outputs": [
        {
          "output_type": "stream",
          "name": "stdout",
          "text": [
            "0.7802690582959642\n"
          ]
        }
      ]
    }
  ]
}